{
 "cells": [
  {
   "cell_type": "code",
   "execution_count": 1,
   "metadata": {},
   "outputs": [],
   "source": [
    "import os, sys, pathlib, json\n",
    "import pandas as pd"
   ]
  },
  {
   "cell_type": "markdown",
   "metadata": {},
   "source": [
    "Change labels into human-readable format"
   ]
  },
  {
   "cell_type": "code",
   "execution_count": 8,
   "metadata": {},
   "outputs": [
    {
     "name": "stdout",
     "output_type": "stream",
     "text": [
      "True\n"
     ]
    },
    {
     "data": {
      "text/html": [
       "<div>\n",
       "<style scoped>\n",
       "    .dataframe tbody tr th:only-of-type {\n",
       "        vertical-align: middle;\n",
       "    }\n",
       "\n",
       "    .dataframe tbody tr th {\n",
       "        vertical-align: top;\n",
       "    }\n",
       "\n",
       "    .dataframe thead th {\n",
       "        text-align: right;\n",
       "    }\n",
       "</style>\n",
       "<table border=\"1\" class=\"dataframe\">\n",
       "  <thead>\n",
       "    <tr style=\"text-align: right;\">\n",
       "      <th></th>\n",
       "      <th>origin</th>\n",
       "      <th>update</th>\n",
       "      <th>score</th>\n",
       "    </tr>\n",
       "  </thead>\n",
       "  <tbody>\n",
       "    <tr>\n",
       "      <th>0</th>\n",
       "      <td>n02640242</td>\n",
       "      <td>sturgeon</td>\n",
       "      <td>0.310153</td>\n",
       "    </tr>\n",
       "    <tr>\n",
       "      <th>1</th>\n",
       "      <td>n02536864</td>\n",
       "      <td>coho</td>\n",
       "      <td>0.158441</td>\n",
       "    </tr>\n",
       "    <tr>\n",
       "      <th>2</th>\n",
       "      <td>n01440764</td>\n",
       "      <td>tench</td>\n",
       "      <td>0.127279</td>\n",
       "    </tr>\n",
       "    <tr>\n",
       "      <th>3</th>\n",
       "      <td>n01695060</td>\n",
       "      <td>Komodo_dragon</td>\n",
       "      <td>0.122669</td>\n",
       "    </tr>\n",
       "    <tr>\n",
       "      <th>4</th>\n",
       "      <td>n02526121</td>\n",
       "      <td>eel</td>\n",
       "      <td>0.116618</td>\n",
       "    </tr>\n",
       "  </tbody>\n",
       "</table>\n",
       "</div>"
      ],
      "text/plain": [
       "      origin         update     score\n",
       "0  n02640242       sturgeon  0.310153\n",
       "1  n02536864           coho  0.158441\n",
       "2  n01440764          tench  0.127279\n",
       "3  n01695060  Komodo_dragon  0.122669\n",
       "4  n02526121            eel  0.116618"
      ]
     },
     "execution_count": 8,
     "metadata": {},
     "output_type": "execute_result"
    }
   ],
   "source": [
    "class_name_file = pd.read_csv('dataset/id_label_data.csv')\n",
    "\n",
    "folder_dir = 'dataset/ILSVRC2012_img_val'\n",
    "\n",
    "val_file_dir = pathlib.Path(folder_dir)\n",
    "print(val_file_dir.exists())\n",
    "\n",
    "type(class_name_file['origin'][0])\n",
    "\n",
    "class_name_file.head()"
   ]
  },
  {
   "cell_type": "code",
   "execution_count": 48,
   "metadata": {},
   "outputs": [],
   "source": [
    "for idx in range(len(class_name_file)):\n",
    "  origin = class_name_file['origin'][idx]\n",
    "  update = class_name_file['update'][idx]\n",
    "  origin_path = pathlib.Path(folder_dir, origin)\n",
    "  update_path = pathlib.Path(folder_dir, update)\n",
    "  if update_path.exists():\n",
    "    str_idx = str(idx)\n",
    "    update_path = pathlib.Path(folder_dir, update+\"_\"+str_idx)\n",
    "  os.rename(origin_path, update_path)"
   ]
  },
  {
   "cell_type": "code",
   "execution_count": null,
   "metadata": {},
   "outputs": [],
   "source": []
  },
  {
   "cell_type": "markdown",
   "metadata": {},
   "source": [
    "Saving ace results"
   ]
  },
  {
   "cell_type": "code",
   "execution_count": 3,
   "metadata": {},
   "outputs": [],
   "source": []
  },
  {
   "cell_type": "code",
   "execution_count": 2,
   "metadata": {},
   "outputs": [
    {
     "name": "stdout",
     "output_type": "stream",
     "text": [
      "False\n"
     ]
    },
    {
     "ename": "FileNotFoundError",
     "evalue": "[Errno 2] No such file or directory: 'Ace-results2/ACE_DenseNet_airfield/airfield_DenseNet_tcav_scores.json'",
     "output_type": "error",
     "traceback": [
      "\u001b[1;31m---------------------------------------------------------------------------\u001b[0m",
      "\u001b[1;31mFileNotFoundError\u001b[0m                         Traceback (most recent call last)",
      "\u001b[1;32m<ipython-input-2-7d4d459ed4e7>\u001b[0m in \u001b[0;36m<module>\u001b[1;34m\u001b[0m\n\u001b[0;32m     15\u001b[0m \u001b[1;31m#model = 'VGG'\u001b[0m\u001b[1;33m\u001b[0m\u001b[1;33m\u001b[0m\u001b[1;33m\u001b[0m\u001b[0m\n\u001b[0;32m     16\u001b[0m \u001b[1;33m\u001b[0m\u001b[0m\n\u001b[1;32m---> 17\u001b[1;33m \u001b[1;32mwith\u001b[0m \u001b[0mopen\u001b[0m\u001b[1;33m(\u001b[0m\u001b[0mace_dir\u001b[0m\u001b[1;33m+\u001b[0m\u001b[1;34m\"/\"\u001b[0m\u001b[1;33m+\u001b[0m\u001b[0mtarget_class\u001b[0m\u001b[1;33m+\u001b[0m\u001b[1;34m\"_\"\u001b[0m\u001b[1;33m+\u001b[0m\u001b[0mmodel\u001b[0m\u001b[1;33m+\u001b[0m\u001b[1;34m\"_tcav_scores.json\"\u001b[0m\u001b[1;33m)\u001b[0m \u001b[1;32mas\u001b[0m \u001b[0mf\u001b[0m\u001b[1;33m:\u001b[0m\u001b[1;33m\u001b[0m\u001b[1;33m\u001b[0m\u001b[0m\n\u001b[0m\u001b[0;32m     18\u001b[0m   \u001b[0mtcav_data\u001b[0m \u001b[1;33m=\u001b[0m \u001b[0mjson\u001b[0m\u001b[1;33m.\u001b[0m\u001b[0mload\u001b[0m\u001b[1;33m(\u001b[0m\u001b[0mf\u001b[0m\u001b[1;33m)\u001b[0m\u001b[1;33m\u001b[0m\u001b[1;33m\u001b[0m\u001b[0m\n",
      "\u001b[1;31mFileNotFoundError\u001b[0m: [Errno 2] No such file or directory: 'Ace-results2/ACE_DenseNet_airfield/airfield_DenseNet_tcav_scores.json'"
     ]
    }
   ],
   "source": [
    "name = 'airfield'\n",
    "#ace_dir = 'Ace-results2/ACE_Inception_'+name\n",
    "ace_dir = 'Ace-results2/ACE_DenseNet_'+name\n",
    "#ace_dir = 'Ace-results2/ACE_Resnet_'+name\n",
    "#ace_dir = 'Ace-results2/ACE_VGG_'+name\n",
    "\n",
    "ace_file_dir = pathlib.Path(ace_dir)\n",
    "print(ace_file_dir.exists())\n",
    "\n",
    "target_class = 'airfield'\n",
    "\n",
    "#model = 'Inception'\n",
    "model = 'DenseNet'\n",
    "#model= 'Resnet'\n",
    "#model = 'VGG'\n",
    "\n",
    "with open(ace_dir+\"/\"+target_class+\"_\"+model+\"_tcav_scores.json\") as f:\n",
    "  tcav_data = json.load(f)"
   ]
  },
  {
   "cell_type": "code",
   "execution_count": 221,
   "metadata": {},
   "outputs": [
    {
     "name": "stdout",
     "output_type": "stream",
     "text": [
      "['acts', 'cam_results', 'cavs', 'concepts', 'masked_results', 'results', 'results_summaries']\n"
     ]
    }
   ],
   "source": [
    "class_names = [name for name in os.listdir(ace_dir) if os.path.isdir(os.path.join(ace_dir, name))]\n",
    "print(class_names)\n",
    "\n",
    "concepts_dir = pathlib.Path(ace_dir, 'concepts')\n",
    "masked_concepts_dir = pathlib.Path(ace_dir, 'masked_results')\n",
    "results_dir = pathlib.Path(ace_dir, 'results')\n",
    "summary_dir = pathlib.Path(ace_dir, 'results_summaries')\n",
    "full_masked_dir = pathlib.Path(masked_concepts_dir, 'full_tcav_masked_results')\n",
    "\n",
    "ace_data = dict()\n",
    "ace_data['concept'] = dict()\n",
    "ace_data['masked'] = dict()\n",
    "ace_data['full_masked'] = dict()\n",
    "ace_data['results'] = dict()\n",
    "ace_data['summary'] = dict()\n",
    "\n",
    "concept_names = [name for name in os.listdir(concepts_dir) if os.path.isdir(os.path.join(concepts_dir, name))]\n",
    "\n",
    "for i in range(len(concept_names)):\n",
    "  name = concept_names[i]\n",
    "  if 'patches' not in name:\n",
    "    continue\n",
    "  each_file_dir = pathlib.Path(concepts_dir, name)\n",
    "  file_lists = list(each_file_dir.glob(\"*.png\"))\n",
    "  files = []\n",
    "  for file in file_lists:\n",
    "    files.append(str(file))\n",
    "  ace_data['concept'][name] = dict()\n",
    "  ace_data['concept'][name]['file'] = files \n"
   ]
  },
  {
   "cell_type": "code",
   "execution_count": 222,
   "metadata": {},
   "outputs": [],
   "source": [
    "# grad-cam saliency map result (folder name cam_results)\n",
    "cam_result_dir = pathlib.Path(ace_dir, 'cam_results')\n",
    "cam_result_conv_dir = pathlib.Path(ace_dir, 'cam_results2')\n",
    "\n",
    "ace_data['cam_results'] = dict()\n",
    "ace_data['cam_results_conv'] = dict()\n",
    "\n",
    "cam_files = list(cam_result_dir.glob(\"*.png\"))\n",
    "for idx in range(len(cam_files)):\n",
    "  cam_img = str(cam_files[idx])\n",
    "  img_id = str(cam_img.split(\"\\\\\")[-1]).split(\".\")[0]\n",
    "  ace_data['cam_results'][img_id] = cam_img\n",
    "\n",
    "conv_cam_files = list(cam_result_conv_dir.glob(\"*.png\"))\n",
    "for idx in range(len(conv_cam_files)):\n",
    "  cam_img = str(conv_cam_files[idx])\n",
    "  img_id = str(cam_img.split(\"\\\\\")[-1]).split(\".\")[0]\n",
    "  ace_data['cam_results_conv'][img_id] = cam_img"
   ]
  },
  {
   "cell_type": "code",
   "execution_count": 223,
   "metadata": {},
   "outputs": [],
   "source": [
    "masked_concept_names = [name for name in os.listdir(masked_concepts_dir) if os.path.isdir(os.path.join(masked_concepts_dir, name))]\n",
    "masked_concept_names.remove(\"full_tcav_masked_results\")\n",
    "#masked_value = list(masked_concepts_dir.glob(\"*.json\"))\n",
    "\n",
    "'''if len(masked_value) != len(masked_concept_names):\n",
    "  print(\"ERRORRR!!\")\n",
    "else:\n",
    "  print(\"len(maksed_value) and len(masked_concept_names) are same\")'''\n",
    "\n",
    "for i in range(len(masked_concept_names)):\n",
    "  name = str(masked_concept_names[i])\n",
    "  concept_name = (name.split(\"_\"))[-2]\n",
    "  #mask_val = str(masked_value[i])\n",
    "  '''if name not in mask_val:\n",
    "    print(\"errror!!!\")\n",
    "    break'''\n",
    "  each_file_dir = pathlib.Path(masked_concepts_dir, name)\n",
    "  file_lists = list(each_file_dir.glob(\"*.png\"))\n",
    "  files = []\n",
    "  for file in file_lists:\n",
    "    files.append(str(file))\n",
    "  ace_data['masked'][concept_name] = dict()\n",
    "  ace_data['masked'][concept_name]['file'] = files\n",
    "  #ace_data['masked'][concept_name]['masked_json'] = mask_val\n",
    "\n",
    "result_tcav_png = list(full_masked_dir.glob(\"*_tcav.png\"))\n",
    "tcav_files = []\n",
    "for file in result_tcav_png:\n",
    "  tcav_files.append(str(file))\n",
    "\n",
    "ace_data['full_masked'] = tcav_files"
   ]
  },
  {
   "cell_type": "code",
   "execution_count": 224,
   "metadata": {},
   "outputs": [
    {
     "data": {
      "text/plain": [
       "'bn = list(tcav_data.keys())[0]\\ntcav_concepts = list(tcav_data[bn].keys())\\nlen_concepts = list(ace_data[\\'concept\\'].keys())\\n\\nfor idx in range(len(len_concepts)):\\n  con = tcav_concepts[idx]\\n  concept_data =  tcav_data[bn][con]\\n  avg_raw_tcav = concept_data[\"avg_raw_tcav\"]\\n  for jdx in range(len(len_concepts)):\\n    if con+\"_\" in len_concepts[jdx]:\\n      #print(con)\\n      #print(len_concepts[jdx])\\n      ace_data[\\'concept\\'][len_concepts[jdx]][\"tcav_score\"] = avg_raw_tcav'"
      ]
     },
     "execution_count": 224,
     "metadata": {},
     "output_type": "execute_result"
    }
   ],
   "source": [
    "'''bn = list(tcav_data.keys())[0]\n",
    "tcav_concepts = list(tcav_data[bn].keys())\n",
    "len_concepts = list(ace_data['concept'].keys())\n",
    "\n",
    "for idx in range(len(len_concepts)):\n",
    "  con = tcav_concepts[idx]\n",
    "  concept_data =  tcav_data[bn][con]\n",
    "  avg_raw_tcav = concept_data[\"avg_raw_tcav\"]\n",
    "  for jdx in range(len(len_concepts)):\n",
    "    if con+\"_\" in len_concepts[jdx]:\n",
    "      #print(con)\n",
    "      #print(len_concepts[jdx])\n",
    "      ace_data['concept'][len_concepts[jdx]][\"tcav_score\"] = avg_raw_tcav'''\n"
   ]
  },
  {
   "cell_type": "code",
   "execution_count": 225,
   "metadata": {},
   "outputs": [
    {
     "name": "stdout",
     "output_type": "stream",
     "text": [
      "Ace-results2\\ACE_DenseNet_airfield\\results\\conv5_block16_concat.png\n"
     ]
    }
   ],
   "source": [
    "result_png = list(results_dir.glob(\"*.png\"))\n",
    "ace_data['results']['result_image'] = str(result_png[0])\n",
    "print(result_png[0])\n",
    "\n",
    "#raw_img_val = list(results_dir.glob(\"*.json\"))\n",
    "#ace_data['results']['raw_image'] = str(raw_img_val[0])\n",
    "\n",
    "summary_txt = list(summary_dir.glob(\"*.txt\"))\n",
    "with open(str(summary_txt[0])) as file:\n",
    "  lines = file.readlines()\n",
    "ace_data['summary'] = lines\n",
    "\n",
    "summary_json = list(summary_dir.glob(\"*.json\"))\n",
    "with open(str(summary_json[0])) as f:\n",
    "  filename_dict = json.load(f)\n",
    "ace_data['filename_match'] = filename_dict"
   ]
  },
  {
   "cell_type": "code",
   "execution_count": 226,
   "metadata": {},
   "outputs": [],
   "source": [
    "with open(\"ace_json_results2/ace_\"+model+\"_\"+target_class+\".json\", \"w\") as outfile:\n",
    "  json.dump(ace_data, outfile, indent = 4)"
   ]
  },
  {
   "cell_type": "code",
   "execution_count": null,
   "metadata": {},
   "outputs": [],
   "source": []
  },
  {
   "cell_type": "code",
   "execution_count": null,
   "metadata": {},
   "outputs": [],
   "source": []
  },
  {
   "cell_type": "code",
   "execution_count": null,
   "metadata": {},
   "outputs": [],
   "source": []
  }
 ],
 "metadata": {
  "interpreter": {
   "hash": "916dbcbb3f70747c44a77c7bcd40155683ae19c65e1c03b4aa3499c5328201f1"
  },
  "kernelspec": {
   "display_name": "Python 3.6.8 64-bit",
   "name": "python3"
  },
  "language_info": {
   "codemirror_mode": {
    "name": "ipython",
    "version": 3
   },
   "file_extension": ".py",
   "mimetype": "text/x-python",
   "name": "python",
   "nbconvert_exporter": "python",
   "pygments_lexer": "ipython3",
   "version": "3.7.9"
  },
  "orig_nbformat": 4
 },
 "nbformat": 4,
 "nbformat_minor": 2
}
